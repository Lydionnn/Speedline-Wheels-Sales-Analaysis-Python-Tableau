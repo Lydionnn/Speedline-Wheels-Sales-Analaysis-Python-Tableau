{
 "cells": [
  {
   "cell_type": "code",
   "execution_count": 39,
   "id": "cae7d70a-3587-4f35-b1f2-63fb81405fd2",
   "metadata": {},
   "outputs": [],
   "source": [
    "import pandas as pd"
   ]
  },
  {
   "cell_type": "code",
   "execution_count": 40,
   "id": "4b950f86-7dfe-4ca9-85ad-eae369e54c71",
   "metadata": {},
   "outputs": [
    {
     "name": "stdout",
     "output_type": "stream",
     "text": [
      "                  Business name        Date Transaction Type      Num  \\\n",
      "0  1050 ATLANTIC COLLISION INC.         NaN              NaN      NaN   \n",
      "1                           NaN  04/26/2024          Invoice  12453.0   \n",
      "2                           NaN  04/26/2024          Invoice  12453.0   \n",
      "3                           NaN  04/26/2024          Invoice  12453.0   \n",
      "4                           NaN  04/26/2024          Invoice  12453.0   \n",
      "\n",
      "                                    Memo/Description  Qty  Sales Price  \\\n",
      "0                                                NaN  NaN          NaN   \n",
      "1                       ALLUMINUM HUB RING 78.3-71.5  4.0          0.0   \n",
      "2  XPD-704 PAKAMI 20*10 10*127/139.7 -24 GLOSS BL...  5.0        100.0   \n",
      "3                   POWERHUB LT33*12.50R20 A/T 10PLY  5.0        125.0   \n",
      "4            7 SPLINE LUG NUT 14X1.50X51 BK KIT 24+1  1.0         15.0   \n",
      "\n",
      "     Amount         P.O. Number  \n",
      "0       NaN                 NaN  \n",
      "1    0.00    JEEP WRANGLER 2024  \n",
      "2  500.00    JEEP WRANGLER 2024  \n",
      "3  625.00    JEEP WRANGLER 2024  \n",
      "4   15.00    JEEP WRANGLER 2024  \n"
     ]
    }
   ],
   "source": [
    "df = pd.read_csv(r'C:\\Users\\Fernando\\pyproj\\my_env\\SPEEDLINE sales by customer detail.csv')\n",
    "print(df.head())"
   ]
  },
  {
   "cell_type": "code",
   "execution_count": 41,
   "id": "0e8d0b93-e96c-4382-b386-da7d2135b61d",
   "metadata": {},
   "outputs": [],
   "source": [
    "# Initial cleaning of data\n",
    "\n",
    "# Forward-filling business names due to the names just showing on the first line of the reports \n",
    "# (that is the nature of the format of this specific report)\n",
    "\n",
    "df['Business name'] = df['Business name'].ffill()\n",
    "\n",
    "# Removing rows where 'Date' and 'Transaction Type' are NaN\n",
    "# I decided to do this since these are the rows that are the total rows or summary lines and I won't use them\n",
    "df_clean = df.dropna(subset=['Date', 'Transaction Type'])\n",
    "\n",
    "# Converting 'Amount' to float using astype with .loc\n",
    "df_clean.loc[:, 'Amount'] = df_clean['Amount'].astype(float, errors='ignore')\n",
    "\n",
    "# Converting 'Date' to datetime using pd.to_datetime and then astype with .loc\n",
    "df_clean.loc[:, 'Date'] = pd.to_datetime(df_clean['Date'], errors='coerce').astype('datetime64[ns]')"
   ]
  },
  {
   "cell_type": "code",
   "execution_count": 42,
   "id": "5ed3b448-f922-4ea0-ba71-2c5da542265a",
   "metadata": {},
   "outputs": [
    {
     "name": "stdout",
     "output_type": "stream",
     "text": [
      "<class 'pandas.core.frame.DataFrame'>\n",
      "Index: 92 entries, 1 to 146\n",
      "Data columns (total 9 columns):\n",
      " #   Column            Non-Null Count  Dtype  \n",
      "---  ------            --------------  -----  \n",
      " 0   Business name     92 non-null     object \n",
      " 1   Date              92 non-null     object \n",
      " 2   Transaction Type  92 non-null     object \n",
      " 3   Num               92 non-null     float64\n",
      " 4   Memo/Description  92 non-null     object \n",
      " 5   Qty               91 non-null     float64\n",
      " 6   Sales Price       91 non-null     float64\n",
      " 7   Amount            92 non-null     object \n",
      " 8   P.O. Number       31 non-null     object \n",
      "dtypes: float64(3), object(6)\n",
      "memory usage: 7.2+ KB\n",
      "None\n"
     ]
    }
   ],
   "source": [
    "df = df_clean\n",
    "print(df.info())\n",
    "\n",
    "df['Amount'] = pd.to_numeric(df['Amount'], errors='coerce')\n",
    "\n",
    "# Noticed that some numbers in Amount column and sales price have different formats so I want to clean this data and change to float\n",
    "# removing the $ signs and changing the data type\n",
    "\n",
    "# Remove dollar signs and commas\n",
    "df['Amount'] = df['Amount'].replace('[\\$,]', '', regex=True)\n",
    "df['Sales Price'] = df['Sales Price'].replace('[\\$,]', '', regex=True)\n",
    "\n",
    "df['Amount'] = pd.to_numeric(df['Amount'], errors='coerce')\n",
    "df['Sales Price'] = pd.to_numeric(df['Sales Price'], errors='coerce')\n"
   ]
  },
  {
   "cell_type": "code",
   "execution_count": 43,
   "id": "5c7d20e5-f578-48fe-b1b0-8f8db5900693",
   "metadata": {},
   "outputs": [
    {
     "name": "stdout",
     "output_type": "stream",
     "text": [
      "Business name\n",
      "LEJEUNE TIRE& WHEELS, INC             4270.00\n",
      "GENESIS TIRE LLC                      2270.00\n",
      "HOT DRIVE & SOUND                     1620.00\n",
      "GENERAL TIRE HIALEAH                  1615.00\n",
      "VASMARTZ TIRES & AUTOPARTS INT.       1385.00\n",
      "ATW TIRES WHEELS AND AUTO             1260.00\n",
      "FIRST CLASS COLLISION WORKS CORP      1216.00\n",
      "1050 ATLANTIC COLLISION INC.          1140.00\n",
      "OCEAN TIRE SERVICES INC               1000.00\n",
      "ANTONELLA 2                            960.00\n",
      "TIRES WHEELS AND MORE LLC              960.00\n",
      "MIAMI BEST WHEELS                      947.50\n",
      "DB MOTORING GROUP INC                  900.00\n",
      "CUSTOM WHEEL                           900.00\n",
      "RED LINE AUTO ACCESSORIES & WHEELS     840.00\n",
      "CARRERA TIRE SHOP                      650.00\n",
      "DALES WHEELS                           600.00\n",
      "A AND A USED TIRES AND WHEELS INC      520.00\n",
      "EBAY                                   518.40\n",
      "ANTONELLA TIRES LLC                    518.00\n",
      "GUAYANILLA AUTO BODY CORP              480.00\n",
      "WHEEL WORLD PR WHOLESALE               420.00\n",
      "Chad Mitchell                          330.00\n",
      "GILBERTO OSORIO                        227.91\n",
      "RIVERA TIRES CORP                      125.00\n",
      "RJ AUTOTRONIC                          111.20\n",
      "NEWON ALLEN                             25.00\n",
      "PGI DISTRIBUTOR CORP                    15.00\n",
      "Name: Amount, dtype: float64\n"
     ]
    }
   ],
   "source": [
    "# Grouping by 'Business name' and sum the 'Amount' - sorting them after\n",
    "grouped_df = df.groupby('Business name')['Amount'].sum()\n",
    "\n",
    "sorted_df = grouped_df.sort_values(ascending=False)\n",
    "\n",
    "print(sorted_df)\n"
   ]
  },
  {
   "cell_type": "code",
   "execution_count": 44,
   "id": "02fb13e4-f322-4c45-9da2-508685d0ff8e",
   "metadata": {},
   "outputs": [
    {
     "name": "stdout",
     "output_type": "stream",
     "text": [
      "           Business name                 Date Transaction Type      Num  \\\n",
      "14   ANTONELLA TIRES LLC  2024-04-25 00:00:00          Invoice  12440.0   \n",
      "29         Chad Mitchell  2024-04-26 00:00:00    Sales Receipt   6134.0   \n",
      "57  GENERAL TIRE HIALEAH  2024-04-25 00:00:00          Invoice  12436.0   \n",
      "61  GENERAL TIRE HIALEAH  2024-04-26 00:00:00          Invoice  12443.0   \n",
      "\n",
      "                                     Memo/Description  Qty  Sales Price  \\\n",
      "14                      POWERHUB LT285/55R20 A/T 8PLY  8.0       150.00   \n",
      "29                                           Shipping  NaN          NaN   \n",
      "57  XPD-704 PAKAMI 22*12 12*139.7/135 -44 GLOSS BL...  4.0       295.00   \n",
      "61  XPD-710 TYPHOON 20*10 12*139.7/135 -24 CHROME 106  4.0       303.75   \n",
      "\n",
      "    Amount P.O. Number  \n",
      "14     NaN         NaN  \n",
      "29    30.0         NaN  \n",
      "57     NaN       TAHOE  \n",
      "61     NaN         NaN  \n"
     ]
    }
   ],
   "source": [
    "# Filtering for rows where any of these columns have missing values\n",
    "missing_data = df[df[['Sales Price', 'Amount']].isnull().any(axis=1)]\n",
    "print(missing_data)"
   ]
  },
  {
   "cell_type": "code",
   "execution_count": 45,
   "id": "5f0b53a1-d16c-4e54-ae16-af4323c36663",
   "metadata": {},
   "outputs": [],
   "source": [
    "# Notice how ANTONELLA TIRES LLC IS NOT SHOWING AN 'AMOUNT' \n",
    "# DOUBLE CHECKED ON CSV AND IT IS SHOWING AN AMOUNT WHICH HAPPENS TO BE VERY SIGNIFICANT TOO"
   ]
  },
  {
   "cell_type": "code",
   "execution_count": 46,
   "id": "8ffa7148-f3f6-48ea-95d6-1cac60d925fb",
   "metadata": {},
   "outputs": [],
   "source": [
    "# FOUND THE ERROR - DATA TYPES IN CSV ARE NOT CONSISTENT\n",
    "# SOME DATA IN COLUMNS: SALES PRICE AND AMOUNT ARE NUMBER, CURRENCY OR GENERAL AND IS NOT BEING DETECTED IN DF"
   ]
  },
  {
   "cell_type": "code",
   "execution_count": 47,
   "id": "5e0a1ed3-5813-4b1d-81db-cea93206b91c",
   "metadata": {},
   "outputs": [
    {
     "name": "stdout",
     "output_type": "stream",
     "text": [
      "                  Business name        Date Transaction Type      Num  \\\n",
      "0  1050 ATLANTIC COLLISION INC.         NaN              NaN      NaN   \n",
      "1                           NaN  04/26/2024          Invoice  12453.0   \n",
      "2                           NaN  04/26/2024          Invoice  12453.0   \n",
      "3                           NaN  04/26/2024          Invoice  12453.0   \n",
      "4                           NaN  04/26/2024          Invoice  12453.0   \n",
      "\n",
      "                                    Memo/Description  Qty Sales Price  \\\n",
      "0                                                NaN  NaN               \n",
      "1                       ALLUMINUM HUB RING 78.3-71.5  4.0      0.00     \n",
      "2  XPD-704 PAKAMI 20*10 10*127/139.7 -24 GLOSS BL...  5.0    100.00     \n",
      "3                   POWERHUB LT33*12.50R20 A/T 10PLY  5.0    125.00     \n",
      "4            7 SPLINE LUG NUT 14X1.50X51 BK KIT 24+1  1.0     15.00     \n",
      "\n",
      "     Amount         P.O. Number  \n",
      "0                           NaN  \n",
      "1    0.00    JEEP WRANGLER 2024  \n",
      "2  500.00    JEEP WRANGLER 2024  \n",
      "3  625.00    JEEP WRANGLER 2024  \n",
      "4   15.00    JEEP WRANGLER 2024  \n"
     ]
    }
   ],
   "source": [
    "# Defining a converter function to apply when reading the CSV\n",
    "# This I noticed mid cleaning process I needed to do this due to inconsistencies in data types in the csv file\n",
    "# Some amounts were not being detected by the dataframe therefore not aggregating data accurately\n",
    "def remove_non_numeric(value):\n",
    "    if isinstance(value, str):\n",
    "        # Remove currency symbols and other non-numeric characters except decimal points\n",
    "        value = value.replace('$', '').replace(',', '')\n",
    "    return value\n",
    "# Since there has not been a lot of cleaning done yet I will just redo every step to demonstrate the difference - NOW FIXED\n",
    "df = pd.read_csv(r'C:\\Users\\Fernando\\pyproj\\my_env\\SPEEDLINE sales by customer detail.csv',\n",
    "                 converters={'Amount': remove_non_numeric, 'Sales Price': remove_non_numeric})\n",
    "print(df.head())"
   ]
  },
  {
   "cell_type": "code",
   "execution_count": 48,
   "id": "3b405c06-d43c-4ebc-aec4-3096c2f4027f",
   "metadata": {},
   "outputs": [
    {
     "name": "stdout",
     "output_type": "stream",
     "text": [
      "<class 'pandas.core.frame.DataFrame'>\n",
      "Index: 92 entries, 1 to 146\n",
      "Data columns (total 9 columns):\n",
      " #   Column            Non-Null Count  Dtype  \n",
      "---  ------            --------------  -----  \n",
      " 0   Business name     92 non-null     object \n",
      " 1   Date              92 non-null     object \n",
      " 2   Transaction Type  92 non-null     object \n",
      " 3   Num               92 non-null     float64\n",
      " 4   Memo/Description  92 non-null     object \n",
      " 5   Qty               91 non-null     float64\n",
      " 6   Sales Price       92 non-null     object \n",
      " 7   Amount            92 non-null     object \n",
      " 8   P.O. Number       31 non-null     object \n",
      "dtypes: float64(2), object(7)\n",
      "memory usage: 7.2+ KB\n",
      "None\n"
     ]
    }
   ],
   "source": [
    "# Initial cleaning of data - AGAIN\n",
    "\n",
    "# Forward-filling business names due to the names just showing on the first line of the reports \n",
    "# (that is the nature of the format of this specific report)\n",
    "\n",
    "df['Business name'] = df['Business name'].ffill()\n",
    "\n",
    "# Removing rows where 'Date' and 'Transaction Type' are NaN\n",
    "# I decided to do this since these are the rows that are the total rows or summary lines and I won't use them\n",
    "df_clean = df.dropna(subset=['Date', 'Transaction Type'])\n",
    "\n",
    "# Converting 'Amount' to float using astype with .loc\n",
    "df_clean.loc[:, 'Amount'] = df_clean['Amount'].astype(float, errors='ignore')\n",
    "\n",
    "# Converting 'Date' to datetime using pd.to_datetime and then astype with .loc\n",
    "df_clean.loc[:, 'Date'] = pd.to_datetime(df_clean['Date'], errors='coerce').astype('datetime64[ns]')\n",
    "\n",
    "print(df_clean.info())"
   ]
  },
  {
   "cell_type": "code",
   "execution_count": 49,
   "id": "bc669c6f-89b9-4eac-81e8-f92517dd145e",
   "metadata": {},
   "outputs": [
    {
     "name": "stdout",
     "output_type": "stream",
     "text": [
      "<class 'pandas.core.frame.DataFrame'>\n",
      "Index: 92 entries, 1 to 146\n",
      "Data columns (total 9 columns):\n",
      " #   Column            Non-Null Count  Dtype  \n",
      "---  ------            --------------  -----  \n",
      " 0   Business name     92 non-null     object \n",
      " 1   Date              92 non-null     object \n",
      " 2   Transaction Type  92 non-null     object \n",
      " 3   Num               92 non-null     float64\n",
      " 4   Memo/Description  92 non-null     object \n",
      " 5   Qty               91 non-null     float64\n",
      " 6   Sales Price       91 non-null     float64\n",
      " 7   Amount            92 non-null     float64\n",
      " 8   P.O. Number       31 non-null     object \n",
      "dtypes: float64(4), object(5)\n",
      "memory usage: 7.2+ KB\n",
      "None\n"
     ]
    }
   ],
   "source": [
    "# Even though it was detecting the Amoun as a Non null value it was not aggregating it\n",
    "\n",
    "# making simpler df name for this point forward\n",
    "df = df_clean\n",
    "\n",
    "df['Amount'] = pd.to_numeric(df['Amount'], errors='coerce')\n",
    "\n",
    "# Noticed that some numbers in Amount column and sales price have different formats so I want to clean this data and change to float\n",
    "# removing the $ signs and changing the data type\n",
    "\n",
    "# Removing dollar signs and commas\n",
    "df['Amount'] = df['Amount'].replace('[\\$,]', '', regex=True)\n",
    "df['Sales Price'] = df['Sales Price'].replace('[\\$,]', '', regex=True)\n",
    "\n",
    "\n",
    "# Changing the necessary data types for the analysis\n",
    "df['Amount'] = pd.to_numeric(df['Amount'], errors='coerce')\n",
    "df['Sales Price'] = pd.to_numeric(df['Sales Price'], errors='coerce')\n",
    "\n",
    "print(df.info())"
   ]
  },
  {
   "cell_type": "code",
   "execution_count": 50,
   "id": "bde44200-555e-4a03-97c9-9c9c3afbe560",
   "metadata": {},
   "outputs": [
    {
     "name": "stdout",
     "output_type": "stream",
     "text": [
      "Business name\n",
      "LEJEUNE TIRE& WHEELS, INC             4270.00\n",
      "GENERAL TIRE HIALEAH                  4010.00\n",
      "GENESIS TIRE LLC                      2270.00\n",
      "ANTONELLA TIRES LLC                   1718.00\n",
      "HOT DRIVE & SOUND                     1620.00\n",
      "VASMARTZ TIRES & AUTOPARTS INT.       1385.00\n",
      "ATW TIRES WHEELS AND AUTO             1260.00\n",
      "FIRST CLASS COLLISION WORKS CORP      1216.00\n",
      "1050 ATLANTIC COLLISION INC.          1140.00\n",
      "OCEAN TIRE SERVICES INC               1000.00\n",
      "ANTONELLA 2                            960.00\n",
      "TIRES WHEELS AND MORE LLC              960.00\n",
      "MIAMI BEST WHEELS                      947.50\n",
      "DB MOTORING GROUP INC                  900.00\n",
      "CUSTOM WHEEL                           900.00\n",
      "RED LINE AUTO ACCESSORIES & WHEELS     840.00\n",
      "CARRERA TIRE SHOP                      650.00\n",
      "DALES WHEELS                           600.00\n",
      "A AND A USED TIRES AND WHEELS INC      520.00\n",
      "EBAY                                   518.40\n",
      "GUAYANILLA AUTO BODY CORP              480.00\n",
      "WHEEL WORLD PR WHOLESALE               420.00\n",
      "Chad Mitchell                          330.00\n",
      "GILBERTO OSORIO                        227.91\n",
      "RIVERA TIRES CORP                      125.00\n",
      "RJ AUTOTRONIC                          111.20\n",
      "NEWON ALLEN                             25.00\n",
      "PGI DISTRIBUTOR CORP                    15.00\n",
      "Name: Amount, dtype: float64\n"
     ]
    }
   ],
   "source": [
    "# Grouping by 'Business name' and sum the 'Amount'\n",
    "grouped_df = df.groupby('Business name')['Amount'].sum()\n",
    "\n",
    "# Sorting the summed values in descending order\n",
    "sorted_df = grouped_df.sort_values(ascending=False)\n",
    "\n",
    "\n",
    "# PAY ATTENTION TO ANTONELLA TIRES LLC NOW - SHOWING AN EXTRA $1200 TRANSACTION\n",
    "# If this data was for a longer period of time this could be detrimental to an analysis\n",
    "print(sorted_df)"
   ]
  },
  {
   "cell_type": "code",
   "execution_count": 51,
   "id": "8faf67ab-ed99-4e7d-b0e9-711727d92b26",
   "metadata": {},
   "outputs": [
    {
     "name": "stdout",
     "output_type": "stream",
     "text": [
      "    Business name                 Date Transaction Type     Num  \\\n",
      "29  Chad Mitchell  2024-04-26 00:00:00    Sales Receipt  6134.0   \n",
      "\n",
      "   Memo/Description  Qty  Sales Price  Amount P.O. Number  \n",
      "29         Shipping  NaN          NaN    30.0         NaN  \n"
     ]
    }
   ],
   "source": [
    "# Checking for the missing value rows after the fix\n",
    "missing_data = df[df[['Sales Price', 'Amount']].isnull().any(axis=1)]\n",
    "print(missing_data)"
   ]
  },
  {
   "cell_type": "code",
   "execution_count": 52,
   "id": "eb3d25e3-559d-476f-aad3-b62034ff1062",
   "metadata": {},
   "outputs": [],
   "source": [
    "# CLEARLY now we only have missing data on index 29 which is Chad Mitchell\n",
    "# We can see that is due to the charge he got which is shipping so there is not a price or quantity - This just gets reported as an amount"
   ]
  },
  {
   "cell_type": "code",
   "execution_count": 53,
   "id": "b37b4357-52b5-434e-b47e-c5bf147b2c14",
   "metadata": {},
   "outputs": [
    {
     "name": "stdout",
     "output_type": "stream",
     "text": [
      "Index(['Business name', 'Date', 'Transaction Type', 'Num', 'Memo/Description',\n",
      "       'Qty', 'Sales Price', 'Amount', 'P.O. Number'],\n",
      "      dtype='object')\n",
      "                                    Date\n",
      "Business name                           \n",
      "GENERAL TIRE HIALEAH                   3\n",
      "GENESIS TIRE LLC                       2\n",
      "LEJEUNE TIRE& WHEELS, INC              2\n",
      "MIAMI BEST WHEELS                      2\n",
      "RED LINE AUTO ACCESSORIES & WHEELS     2\n"
     ]
    }
   ],
   "source": [
    "# VERY INTERESTING ANALYSIS HERE FOR REPEATED BUYERS\n",
    "df.reset_index()\n",
    "print(df.columns)\n",
    "data = df\n",
    "\n",
    "data['Date'] = pd.to_datetime(data['Date'])\n",
    "\n",
    "# Grouping by 'Business name' and 'Date' and count unique dates\n",
    "unique_sales = data.groupby('Business name').agg({'Date': pd.Series.nunique})\n",
    "\n",
    "# Identifying repeated buyers by setting a threshold and displaying them\n",
    "repeated_buyers = unique_sales[unique_sales['Date'] > 1]\n",
    "\n",
    "print(repeated_buyers.head(5))"
   ]
  },
  {
   "cell_type": "code",
   "execution_count": 54,
   "id": "e8f2c044-0c03-4886-8f90-0dab9bd8dc07",
   "metadata": {},
   "outputs": [
    {
     "name": "stdout",
     "output_type": "stream",
     "text": [
      "Business name\n",
      "LEJEUNE TIRE& WHEELS, INC    4270.0\n",
      "GENERAL TIRE HIALEAH         4010.0\n",
      "GENESIS TIRE LLC             2270.0\n",
      "ANTONELLA TIRES LLC          1718.0\n",
      "HOT DRIVE & SOUND            1620.0\n",
      "Name: Amount, dtype: float64\n"
     ]
    }
   ],
   "source": [
    "#TOP N Customers\n",
    "#This is also included in the Viz in tableau with a parameter for top N\n",
    "\n",
    "# Aggregating sales by 'Business name'\n",
    "total_sales_by_customer = data.groupby('Business name')['Amount'].sum()\n",
    "sorted_sales_by_customer = total_sales_by_customer.sort_values(ascending=False)\n",
    "\n",
    "# Selecting top N customers, for example, top 5\n",
    "top_n_customers = sorted_sales_by_customer.head(5)  # Change 5 to your desired N\n",
    "\n",
    "# Displaying the top N customers\n",
    "print(top_n_customers)"
   ]
  },
  {
   "cell_type": "code",
   "execution_count": 55,
   "id": "8ce7784f-ae36-42d0-9b96-2999911ac858",
   "metadata": {},
   "outputs": [],
   "source": [
    "# Important lesson on cleaning your data correctly\n",
    "# If data was NOT cleaned correctly here, 2 of the top 5 customers of speedline wheels would have not been presented accurately\n",
    "# Which when reporting to a client being precise and accurate with our information is one of the main priorities we have"
   ]
  }
 ],
 "metadata": {
  "kernelspec": {
   "display_name": "Python 3 (ipykernel)",
   "language": "python",
   "name": "python3"
  },
  "language_info": {
   "codemirror_mode": {
    "name": "ipython",
    "version": 3
   },
   "file_extension": ".py",
   "mimetype": "text/x-python",
   "name": "python",
   "nbconvert_exporter": "python",
   "pygments_lexer": "ipython3",
   "version": "3.11.7"
  }
 },
 "nbformat": 4,
 "nbformat_minor": 5
}
